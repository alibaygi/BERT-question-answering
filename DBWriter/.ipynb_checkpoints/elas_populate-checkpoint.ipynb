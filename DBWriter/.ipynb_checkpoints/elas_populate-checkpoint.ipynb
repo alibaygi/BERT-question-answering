{
 "cells": [
  {
   "cell_type": "code",
   "execution_count": 1,
   "id": "36065a32",
   "metadata": {},
   "outputs": [
    {
     "name": "stderr",
     "output_type": "stream",
     "text": [
      "/Users/abaygi/miniforge3/envs/mytransfenv/lib/python3.9/site-packages/tqdm/auto.py:22: TqdmWarning: IProgress not found. Please update jupyter and ipywidgets. See https://ipywidgets.readthedocs.io/en/stable/user_install.html\n",
      "  from .autonotebook import tqdm as notebook_tqdm\n"
     ]
    }
   ],
   "source": [
    "#https://pypi.org/project/transformers/\n",
    "from transformers import pipeline\n",
    "import haystack\n",
    "import transformers "
   ]
  },
  {
   "cell_type": "code",
   "execution_count": 2,
   "id": "aabfe7b7",
   "metadata": {},
   "outputs": [
    {
     "data": {
      "text/plain": [
       "'1.10.0'"
      ]
     },
     "execution_count": 2,
     "metadata": {},
     "output_type": "execute_result"
    }
   ],
   "source": [
    "haystack.__version__"
   ]
  },
  {
   "cell_type": "code",
   "execution_count": 3,
   "id": "28caac24",
   "metadata": {},
   "outputs": [
    {
     "data": {
      "text/plain": [
       "'4.21.2'"
      ]
     },
     "execution_count": 3,
     "metadata": {},
     "output_type": "execute_result"
    }
   ],
   "source": [
    "transformers.__version__"
   ]
  },
  {
   "cell_type": "markdown",
   "id": "e2948808",
   "metadata": {},
   "source": [
    "### After running the Docker Desktop run the following command in terminal"
   ]
  },
  {
   "cell_type": "code",
   "execution_count": 4,
   "id": "d920e616",
   "metadata": {},
   "outputs": [],
   "source": [
    "#docker run -p 9200:9200 -e \"discovery.type=single-node\" docker.elastic.co/elasticsearch/elasticsearch:7.14.2"
   ]
  },
  {
   "cell_type": "code",
   "execution_count": 5,
   "id": "9cb445c9",
   "metadata": {},
   "outputs": [
    {
     "name": "stderr",
     "output_type": "stream",
     "text": [
      "/Users/abaygi/miniforge3/envs/mytransfenv/lib/python3.9/site-packages/elasticsearch/connection/base.py:208: ElasticsearchWarning: Elasticsearch built-in security features are not enabled. Without authentication, your cluster could be accessible to anyone. See https://www.elastic.co/guide/en/elasticsearch/reference/7.14/security-minimal-setup.html to enable security.\n",
      "  warnings.warn(message, category=ElasticsearchWarning)\n"
     ]
    }
   ],
   "source": [
    "## create an instantiate of ElasticsearchDocumentStore\n",
    "from haystack.document_stores import ElasticsearchDocumentStore\n",
    "document_store = ElasticsearchDocumentStore(host=\"localhost\", username=\"\", password=\"\", index='squad_docs')\n"
   ]
  },
  {
   "cell_type": "code",
   "execution_count": 6,
   "id": "3ca80cdb",
   "metadata": {},
   "outputs": [],
   "source": [
    "# Let's first fetch some documents that we want to query\n",
    "#import pandas as pd \n",
    "import json\n",
    "\n",
    "with open('../cleaned_data/squad/dev.json', 'r') as f:\n",
    "    squad = json.load(f)"
   ]
  },
  {
   "cell_type": "code",
   "execution_count": 7,
   "id": "0b1933e2",
   "metadata": {},
   "outputs": [
    {
     "data": {
      "text/plain": [
       "{'question': 'What type of Turing machine is capable of multiple actions and extends into a variety of computational paths?',\n",
       " 'answer': 'non-deterministic',\n",
       " 'context': 'A deterministic Turing machine is the most basic Turing machine, which uses a fixed set of rules to determine its future actions. A probabilistic Turing machine is a deterministic Turing machine with an extra supply of random bits. The ability to make probabilistic decisions often helps algorithms solve problems more efficiently. Algorithms that use random bits are called randomized algorithms. A non-deterministic Turing machine is a deterministic Turing machine with an added feature of non-determinism, which allows a Turing machine to have multiple possible future actions from a given state. One way to view non-determinism is that the Turing machine branches into many possible computational paths at each step, and if it solves the problem in any of these branches, it is said to have solved the problem. Clearly, this model is not meant to be a physically realizable model, it is just a theoretically interesting abstract machine that gives rise to particularly interesting complexity classes. For examples, see non-deterministic algorithm.'}"
      ]
     },
     "execution_count": 7,
     "metadata": {},
     "output_type": "execute_result"
    }
   ],
   "source": [
    "squad[410]"
   ]
  },
  {
   "cell_type": "code",
   "execution_count": 8,
   "id": "a4270d49",
   "metadata": {},
   "outputs": [],
   "source": [
    "#dicts[3][\"body_text\"]"
   ]
  },
  {
   "cell_type": "markdown",
   "id": "56b3acfb",
   "metadata": {},
   "source": [
    "### \n",
    "from haystack.document_stores import ElasticsearchDocumentStore\n",
    "\n",
    "\n",
    "\n",
    "document_store = ElasticsearchDocumentStore()\n",
    "\n",
    "\n",
    "documents = [\n",
    "    Document(\n",
    "    \n",
    "      'content'=DOCUMENT_TEXT_HERE\n",
    "      \n",
    "      'meta'={'name': DOCUMENT_NAME, ...}\n",
    "      \n",
    "    ),\n",
    "    ...\n",
    "]\n",
    "\n",
    "\n",
    "\n",
    "document_store.write_documents(dicts)"
   ]
  },
  {
   "cell_type": "code",
   "execution_count": 9,
   "id": "712338f7",
   "metadata": {},
   "outputs": [],
   "source": [
    "squad_docs = []\n",
    "\n",
    "for sample in squad:\n",
    "    squad_docs.append({\n",
    "        'content': sample['context']\n",
    "    })"
   ]
  },
  {
   "cell_type": "markdown",
   "id": "76a6dda8",
   "metadata": {},
   "source": [
    "### Writing into document store"
   ]
  },
  {
   "cell_type": "code",
   "execution_count": 10,
   "id": "4562705a",
   "metadata": {},
   "outputs": [],
   "source": [
    "document_store.write_documents(squad_docs)"
   ]
  },
  {
   "cell_type": "code",
   "execution_count": 11,
   "id": "c2824d5e",
   "metadata": {},
   "outputs": [
    {
     "data": {
      "text/plain": [
       "1204"
      ]
     },
     "execution_count": 11,
     "metadata": {},
     "output_type": "execute_result"
    }
   ],
   "source": [
    "document_store.get_document_count()"
   ]
  },
  {
   "cell_type": "markdown",
   "id": "ff4505c1",
   "metadata": {},
   "source": [
    "### How to build the QA System"
   ]
  },
  {
   "cell_type": "code",
   "execution_count": 12,
   "id": "7bc54abf",
   "metadata": {},
   "outputs": [],
   "source": [
    "import fastapi\n",
    "import pydantic"
   ]
  },
  {
   "cell_type": "code",
   "execution_count": 13,
   "id": "acb8c219",
   "metadata": {},
   "outputs": [
    {
     "data": {
      "text/plain": [
       "'0.88.0'"
      ]
     },
     "execution_count": 13,
     "metadata": {},
     "output_type": "execute_result"
    }
   ],
   "source": [
    "fastapi.__version__"
   ]
  },
  {
   "cell_type": "code",
   "execution_count": 14,
   "id": "6dc6da2e",
   "metadata": {},
   "outputs": [
    {
     "data": {
      "text/plain": [
       "'1.10.2'"
      ]
     },
     "execution_count": 14,
     "metadata": {},
     "output_type": "execute_result"
    }
   ],
   "source": [
    "pydantic.__version__"
   ]
  },
  {
   "cell_type": "code",
   "execution_count": null,
   "id": "5d6348f6",
   "metadata": {},
   "outputs": [],
   "source": [
    "from fastapi import FastAPI\n",
    "from pydantic import BaseModel\n",
    "\n",
    "from haystack.document_stores import ElasticsearchDocumentStore\n",
    "import os\n",
    "from haystack.pipelines import ExtractiveQAPipeline\n",
    "from haystack.nodes import FARMReader\n",
    "from haystack.nodes import BM25Retriever"
   ]
  },
  {
   "cell_type": "code",
   "execution_count": null,
   "id": "38338db3",
   "metadata": {},
   "outputs": [],
   "source": [
    "#ELASTIC_SEARCH_HOST =  os.environ.get('es_ip', 'localhost')\n",
    "#ELASTIC_SEARCH_PORT =  os.environ.get('es_port', 9200)"
   ]
  },
  {
   "cell_type": "code",
   "execution_count": null,
   "id": "754a382f",
   "metadata": {},
   "outputs": [],
   "source": [
    "#ELASTIC_SEARCH_HOST"
   ]
  },
  {
   "cell_type": "code",
   "execution_count": null,
   "id": "844b4eda",
   "metadata": {},
   "outputs": [],
   "source": [
    "#docker run -p 9200:9200 -e \"discovery.type=single-node\" docker.elastic.co/elasticsearch/elasticsearch:7.14.2\n",
    "#document_store = ElasticsearchDocumentStore(host=ELASTIC_SEARCH_HOST, port=ELASTIC_SEARCH_PORT, username=\"\", password=\"\", index='squad_docs')\n",
    "\n"
   ]
  },
  {
   "cell_type": "markdown",
   "id": "71b9b725",
   "metadata": {},
   "source": [
    "### Initialize Retriever, Reader & Pipeline"
   ]
  },
  {
   "cell_type": "code",
   "execution_count": null,
   "id": "468d7521",
   "metadata": {},
   "outputs": [],
   "source": [
    "retriever = BM25Retriever(document_store=document_store)\n",
    "#reader = FARMReader(model_name_or_path=\"deepset/roberta-base-squad2-covid\", use_gpu=False)\n",
    "\n",
    "reader = FARMReader(model_name_or_path='deepset/bert-base-cased-squad2')\n",
    "pipe = ExtractiveQAPipeline(reader, retriever)"
   ]
  },
  {
   "cell_type": "code",
   "execution_count": null,
   "id": "ae42c9a0",
   "metadata": {},
   "outputs": [],
   "source": [
    "question = 'What is a Turing machine?'\n",
    "k_retriver = 3\n",
    "k_reader = 3\n",
    "prediction = pipe.run(query=question, params={\"Retriever\": {\"top_k\": k_retriver}, \"Reader\": {\"top_k\": k_reader}})\n"
   ]
  },
  {
   "cell_type": "code",
   "execution_count": null,
   "id": "b4ae59fd",
   "metadata": {},
   "outputs": [],
   "source": [
    "#prediction"
   ]
  },
  {
   "cell_type": "code",
   "execution_count": null,
   "id": "cdac1cf9",
   "metadata": {},
   "outputs": [],
   "source": [
    "len(prediction[\"answers\"])"
   ]
  },
  {
   "cell_type": "code",
   "execution_count": null,
   "id": "9161a0ab",
   "metadata": {},
   "outputs": [],
   "source": [
    "prediction[\"answers\"][0]"
   ]
  },
  {
   "cell_type": "code",
   "execution_count": null,
   "id": "03d2b602",
   "metadata": {},
   "outputs": [],
   "source": [
    "prediction[\"answers\"][0].to_dict()"
   ]
  },
  {
   "cell_type": "code",
   "execution_count": null,
   "id": "b84b2fc7",
   "metadata": {},
   "outputs": [],
   "source": [
    "#\n",
    "i = 0\n",
    "prediction_dict = prediction[\"answers\"][0].to_dict()"
   ]
  },
  {
   "cell_type": "code",
   "execution_count": null,
   "id": "52fb2630",
   "metadata": {},
   "outputs": [],
   "source": [
    "prediction_dict[\"answer\"]"
   ]
  },
  {
   "cell_type": "code",
   "execution_count": null,
   "id": "ee74ca3c",
   "metadata": {},
   "outputs": [],
   "source": [
    "prediction_dict['context']"
   ]
  },
  {
   "cell_type": "code",
   "execution_count": null,
   "id": "37972435",
   "metadata": {},
   "outputs": [],
   "source": [
    "#pipe.run(query='What does theoretical computer science cover?')"
   ]
  },
  {
   "cell_type": "code",
   "execution_count": null,
   "id": "6c192374",
   "metadata": {},
   "outputs": [],
   "source": [
    "pipe.run(query='What is global warming?')"
   ]
  },
  {
   "cell_type": "code",
   "execution_count": null,
   "id": "9261b518",
   "metadata": {},
   "outputs": [],
   "source": [
    "name = 10"
   ]
  },
  {
   "cell_type": "code",
   "execution_count": null,
   "id": "328a2755",
   "metadata": {},
   "outputs": [],
   "source": [
    "f\"Hi {name}, how are you\""
   ]
  },
  {
   "cell_type": "code",
   "execution_count": null,
   "id": "0cea71c9",
   "metadata": {},
   "outputs": [],
   "source": []
  }
 ],
 "metadata": {
  "kernelspec": {
   "display_name": "Python [conda env:mytransfenv]",
   "language": "python",
   "name": "conda-env-mytransfenv-py"
  },
  "language_info": {
   "codemirror_mode": {
    "name": "ipython",
    "version": 3
   },
   "file_extension": ".py",
   "mimetype": "text/x-python",
   "name": "python",
   "nbconvert_exporter": "python",
   "pygments_lexer": "ipython3",
   "version": "3.9.13"
  }
 },
 "nbformat": 4,
 "nbformat_minor": 5
}
