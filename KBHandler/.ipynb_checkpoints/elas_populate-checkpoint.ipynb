{
 "cells": [
  {
   "cell_type": "code",
   "execution_count": 1,
   "id": "36065a32",
   "metadata": {},
   "outputs": [
    {
     "name": "stderr",
     "output_type": "stream",
     "text": [
      "/Users/abaygi/miniforge3/envs/mytransfenv/lib/python3.9/site-packages/tqdm/auto.py:22: TqdmWarning: IProgress not found. Please update jupyter and ipywidgets. See https://ipywidgets.readthedocs.io/en/stable/user_install.html\n",
      "  from .autonotebook import tqdm as notebook_tqdm\n"
     ]
    }
   ],
   "source": [
    "#https://pypi.org/project/transformers/\n",
    "from transformers import pipeline\n",
    "import haystack\n",
    "import transformers "
   ]
  },
  {
   "cell_type": "code",
   "execution_count": 2,
   "id": "aabfe7b7",
   "metadata": {},
   "outputs": [
    {
     "data": {
      "text/plain": [
       "'1.10.0'"
      ]
     },
     "execution_count": 2,
     "metadata": {},
     "output_type": "execute_result"
    }
   ],
   "source": [
    "haystack.__version__"
   ]
  },
  {
   "cell_type": "code",
   "execution_count": 3,
   "id": "28caac24",
   "metadata": {},
   "outputs": [
    {
     "data": {
      "text/plain": [
       "'4.21.2'"
      ]
     },
     "execution_count": 3,
     "metadata": {},
     "output_type": "execute_result"
    }
   ],
   "source": [
    "transformers.__version__"
   ]
  },
  {
   "cell_type": "code",
   "execution_count": null,
   "id": "d920e616",
   "metadata": {},
   "outputs": [],
   "source": [
    "#After running the Docker Desktop run the following command in terminal\n",
    "#docker run -p 9200:9200 -e \"discovery.type=single-node\" docker.elastic.co/elasticsearch/elasticsearch:7.14.2"
   ]
  },
  {
   "cell_type": "code",
   "execution_count": 4,
   "id": "9cb445c9",
   "metadata": {},
   "outputs": [
    {
     "name": "stderr",
     "output_type": "stream",
     "text": [
      "/Users/abaygi/miniforge3/envs/mytransfenv/lib/python3.9/site-packages/elasticsearch/connection/base.py:208: ElasticsearchWarning: Elasticsearch built-in security features are not enabled. Without authentication, your cluster could be accessible to anyone. See https://www.elastic.co/guide/en/elasticsearch/reference/7.14/security-minimal-setup.html to enable security.\n",
      "  warnings.warn(message, category=ElasticsearchWarning)\n"
     ]
    }
   ],
   "source": [
    "## create an instantiate of ElasticsearchDocumentStore\n",
    "from haystack.document_stores import ElasticsearchDocumentStore\n",
    "document_store = ElasticsearchDocumentStore(host=\"localhost\", username=\"\", password=\"\", index=\"document\")\n"
   ]
  },
  {
   "cell_type": "code",
   "execution_count": 5,
   "id": "3ca80cdb",
   "metadata": {},
   "outputs": [],
   "source": [
    "# Let's first fetch some documents that we want to query\n",
    "import pandas as pd \n",
    "df = pd.read_csv('../cleaned_data/FINAL_CORD_DATA.csv')"
   ]
  },
  {
   "cell_type": "code",
   "execution_count": 6,
   "id": "0b1933e2",
   "metadata": {},
   "outputs": [
    {
     "data": {
      "text/html": [
       "<div>\n",
       "<style scoped>\n",
       "    .dataframe tbody tr th:only-of-type {\n",
       "        vertical-align: middle;\n",
       "    }\n",
       "\n",
       "    .dataframe tbody tr th {\n",
       "        vertical-align: top;\n",
       "    }\n",
       "\n",
       "    .dataframe thead th {\n",
       "        text-align: right;\n",
       "    }\n",
       "</style>\n",
       "<table border=\"1\" class=\"dataframe\">\n",
       "  <thead>\n",
       "    <tr style=\"text-align: right;\">\n",
       "      <th></th>\n",
       "      <th>sha</th>\n",
       "      <th>title</th>\n",
       "      <th>abstract</th>\n",
       "      <th>publish_time</th>\n",
       "      <th>authors</th>\n",
       "      <th>url</th>\n",
       "      <th>body_text</th>\n",
       "    </tr>\n",
       "  </thead>\n",
       "  <tbody>\n",
       "    <tr>\n",
       "      <th>0</th>\n",
       "      <td>41ed6b3014e89604b351c095571c45056ba12c37</td>\n",
       "      <td>A phantom study to optimise the automatic tube current modulation for chest ...</td>\n",
       "      <td>On March 11, 2020, the World Health Organization declared the coronavirus di...</td>\n",
       "      <td>2021-05-28</td>\n",
       "      <td>Gombolevskiy, Victor; Morozov, Sergey; Chernina, Valeria; Blokhin, Ivan; Vas...</td>\n",
       "      <td>https://doi.org/10.1186/s41747-021-00218-0; https://www.ncbi.nlm.nih.gov/pub...</td>\n",
       "      <td>\\nWe obtained a density difference (ground-glass opacities minus visually un...</td>\n",
       "    </tr>\n",
       "    <tr>\n",
       "      <th>1</th>\n",
       "      <td>57221999055bdc0b1c4bb16c790fdebdac1f7ce7</td>\n",
       "      <td>Tunicamycin, an anticancer drug and inhibitor of N- linked glycosylation pro...</td>\n",
       "      <td>SARS-CoV-2 outbreaks remains a medical and economic challenge, due to the la...</td>\n",
       "      <td>2020-10-20</td>\n",
       "      <td>Dawood, Ali Adel; Altobje, Mahmood Abduljabar</td>\n",
       "      <td>https://doi.org/10.1016/j.micpath.2020.104586; https://www.ncbi.nlm.nih.gov/...</td>\n",
       "      <td>Tunicamycin is an antibiotic was produced by Streptomyces clavuligerus and S...</td>\n",
       "    </tr>\n",
       "    <tr>\n",
       "      <th>2</th>\n",
       "      <td>7fd64a56bf3a761da96e6aad00789413813599ca</td>\n",
       "      <td>Asymptomatic SARS-CoV-2 infection</td>\n",
       "      <td>NaN</td>\n",
       "      <td>2020-06-12</td>\n",
       "      <td>Ooi, Eng Eong; Low, Jenny G</td>\n",
       "      <td>https://doi.org/10.1016/s1473-3099(20)30460-6; https://api.elsevier.com/cont...</td>\n",
       "      <td>The pandemic spread of severe acute respiratory syndrome coronavirus-2 (SARS...</td>\n",
       "    </tr>\n",
       "  </tbody>\n",
       "</table>\n",
       "</div>"
      ],
      "text/plain": [
       "                                        sha  \\\n",
       "0  41ed6b3014e89604b351c095571c45056ba12c37   \n",
       "1  57221999055bdc0b1c4bb16c790fdebdac1f7ce7   \n",
       "2  7fd64a56bf3a761da96e6aad00789413813599ca   \n",
       "\n",
       "                                                                             title  \\\n",
       "0  A phantom study to optimise the automatic tube current modulation for chest ...   \n",
       "1  Tunicamycin, an anticancer drug and inhibitor of N- linked glycosylation pro...   \n",
       "2                                                Asymptomatic SARS-CoV-2 infection   \n",
       "\n",
       "                                                                          abstract  \\\n",
       "0  On March 11, 2020, the World Health Organization declared the coronavirus di...   \n",
       "1  SARS-CoV-2 outbreaks remains a medical and economic challenge, due to the la...   \n",
       "2                                                                              NaN   \n",
       "\n",
       "  publish_time  \\\n",
       "0   2021-05-28   \n",
       "1   2020-10-20   \n",
       "2   2020-06-12   \n",
       "\n",
       "                                                                           authors  \\\n",
       "0  Gombolevskiy, Victor; Morozov, Sergey; Chernina, Valeria; Blokhin, Ivan; Vas...   \n",
       "1                                    Dawood, Ali Adel; Altobje, Mahmood Abduljabar   \n",
       "2                                                      Ooi, Eng Eong; Low, Jenny G   \n",
       "\n",
       "                                                                               url  \\\n",
       "0  https://doi.org/10.1186/s41747-021-00218-0; https://www.ncbi.nlm.nih.gov/pub...   \n",
       "1  https://doi.org/10.1016/j.micpath.2020.104586; https://www.ncbi.nlm.nih.gov/...   \n",
       "2  https://doi.org/10.1016/s1473-3099(20)30460-6; https://api.elsevier.com/cont...   \n",
       "\n",
       "                                                                         body_text  \n",
       "0  \\nWe obtained a density difference (ground-glass opacities minus visually un...  \n",
       "1  Tunicamycin is an antibiotic was produced by Streptomyces clavuligerus and S...  \n",
       "2  The pandemic spread of severe acute respiratory syndrome coronavirus-2 (SARS...  "
      ]
     },
     "execution_count": 6,
     "metadata": {},
     "output_type": "execute_result"
    }
   ],
   "source": [
    "df.head(3)"
   ]
  },
  {
   "cell_type": "code",
   "execution_count": 7,
   "id": "6797153d",
   "metadata": {},
   "outputs": [
    {
     "data": {
      "text/plain": [
       "(24910, 7)"
      ]
     },
     "execution_count": 7,
     "metadata": {},
     "output_type": "execute_result"
    }
   ],
   "source": [
    "df.shape"
   ]
  },
  {
   "cell_type": "code",
   "execution_count": 8,
   "id": "7fc78a84",
   "metadata": {},
   "outputs": [
    {
     "data": {
      "text/plain": [
       "sha                0\n",
       "title              0\n",
       "abstract        3067\n",
       "publish_time       0\n",
       "authors          218\n",
       "url                0\n",
       "body_text          0\n",
       "dtype: int64"
      ]
     },
     "execution_count": 8,
     "metadata": {},
     "output_type": "execute_result"
    }
   ],
   "source": [
    "df.isnull().sum()"
   ]
  },
  {
   "cell_type": "code",
   "execution_count": 9,
   "id": "ba82a8e1",
   "metadata": {},
   "outputs": [],
   "source": [
    "df.dropna(inplace=True)"
   ]
  },
  {
   "cell_type": "code",
   "execution_count": 10,
   "id": "6a2f8d37",
   "metadata": {},
   "outputs": [
    {
     "data": {
      "text/plain": [
       "sha             0\n",
       "title           0\n",
       "abstract        0\n",
       "publish_time    0\n",
       "authors         0\n",
       "url             0\n",
       "body_text       0\n",
       "dtype: int64"
      ]
     },
     "execution_count": 10,
     "metadata": {},
     "output_type": "execute_result"
    }
   ],
   "source": [
    "df.isnull().sum()"
   ]
  },
  {
   "cell_type": "code",
   "execution_count": 11,
   "id": "8c56a086",
   "metadata": {},
   "outputs": [],
   "source": [
    "# Convert files to dicts\n",
    "# You can optionally supply a cleaning function that is applied to each doc (e.g. to remove footers)\n",
    "# It must take a str as input, and return a str.\n",
    "dicts = df.to_dict('records')"
   ]
  },
  {
   "cell_type": "code",
   "execution_count": 12,
   "id": "d872ce91",
   "metadata": {},
   "outputs": [],
   "source": [
    "#dicts[3]"
   ]
  },
  {
   "cell_type": "code",
   "execution_count": 13,
   "id": "ef9bb887",
   "metadata": {},
   "outputs": [
    {
     "data": {
      "text/plain": [
       "'fa5968c0d0290201f8eb1ca2eaf98181ae6a7a6f'"
      ]
     },
     "execution_count": 13,
     "metadata": {},
     "output_type": "execute_result"
    }
   ],
   "source": [
    "dicts[3][\"sha\"]"
   ]
  },
  {
   "cell_type": "code",
   "execution_count": 14,
   "id": "cc510102",
   "metadata": {},
   "outputs": [
    {
     "data": {
      "text/plain": [
       "'Mechanical Ventilator Parameter Estimation for Lung Health through Machine Learning'"
      ]
     },
     "execution_count": 14,
     "metadata": {},
     "output_type": "execute_result"
    }
   ],
   "source": [
    "dicts[3][\"title\"]"
   ]
  },
  {
   "cell_type": "code",
   "execution_count": 15,
   "id": "a4270d49",
   "metadata": {},
   "outputs": [],
   "source": [
    "#dicts[3][\"body_text\"]"
   ]
  },
  {
   "cell_type": "markdown",
   "id": "56b3acfb",
   "metadata": {},
   "source": [
    "### \n",
    "from haystack.document_stores import ElasticsearchDocumentStore\n",
    "\n",
    "\n",
    "\n",
    "document_store = ElasticsearchDocumentStore()\n",
    "\n",
    "\n",
    "documents = [\n",
    "    Document(\n",
    "    \n",
    "      'content'=DOCUMENT_TEXT_HERE\n",
    "      \n",
    "      'meta'={'name': DOCUMENT_NAME, ...}\n",
    "      \n",
    "    ),\n",
    "    ...\n",
    "]\n",
    "\n",
    "\n",
    "\n",
    "document_store.write_documents(dicts)"
   ]
  },
  {
   "cell_type": "code",
   "execution_count": 16,
   "id": "712338f7",
   "metadata": {},
   "outputs": [
    {
     "name": "stderr",
     "output_type": "stream",
     "text": [
      "/Users/abaygi/miniforge3/envs/mytransfenv/lib/python3.9/site-packages/elasticsearch/connection/base.py:208: ElasticsearchWarning: Elasticsearch built-in security features are not enabled. Without authentication, your cluster could be accessible to anyone. See https://www.elastic.co/guide/en/elasticsearch/reference/7.14/security-minimal-setup.html to enable security.\n",
      "  warnings.warn(message, category=ElasticsearchWarning)\n"
     ]
    }
   ],
   "source": [
    "final_dicts = []\n",
    "for each in dicts:\n",
    "    tmp = {}\n",
    "    if each is not None:\n",
    "        tmp['content'] = each.pop('body_text')\n",
    "        tmp['meta'] = each\n",
    "    final_dicts.append(tmp)\n",
    "\n",
    "document_store.write_documents(final_dicts)"
   ]
  },
  {
   "cell_type": "code",
   "execution_count": 34,
   "id": "8f9a417c",
   "metadata": {},
   "outputs": [],
   "source": [
    "#final_dicts[0]"
   ]
  },
  {
   "cell_type": "code",
   "execution_count": null,
   "id": "99241d43",
   "metadata": {},
   "outputs": [],
   "source": [
    "#document_store.write_documents(final_dicts)"
   ]
  },
  {
   "cell_type": "code",
   "execution_count": null,
   "id": "e4356ae8",
   "metadata": {},
   "outputs": [],
   "source": [
    "#test_dicts = [ {\n",
    "        #'content': \"hi\",\n",
    "       # 'meta': {'name': \"DOCUMENT_NAME\"}\n",
    "   # }]"
   ]
  },
  {
   "cell_type": "code",
   "execution_count": null,
   "id": "3f5d04e6",
   "metadata": {},
   "outputs": [],
   "source": [
    "#document_store.write_documents(test_dicts)"
   ]
  },
  {
   "cell_type": "code",
   "execution_count": 18,
   "id": "c2824d5e",
   "metadata": {},
   "outputs": [
    {
     "data": {
      "text/plain": [
       "21696"
      ]
     },
     "execution_count": 18,
     "metadata": {},
     "output_type": "execute_result"
    }
   ],
   "source": [
    "document_store.get_document_count()"
   ]
  },
  {
   "cell_type": "markdown",
   "id": "ff4505c1",
   "metadata": {},
   "source": [
    "### How to build the QA System"
   ]
  },
  {
   "cell_type": "code",
   "execution_count": 21,
   "id": "7bc54abf",
   "metadata": {},
   "outputs": [],
   "source": [
    "import fastapi\n",
    "import pydantic"
   ]
  },
  {
   "cell_type": "code",
   "execution_count": 22,
   "id": "acb8c219",
   "metadata": {},
   "outputs": [
    {
     "data": {
      "text/plain": [
       "'0.88.0'"
      ]
     },
     "execution_count": 22,
     "metadata": {},
     "output_type": "execute_result"
    }
   ],
   "source": [
    "fastapi.__version__"
   ]
  },
  {
   "cell_type": "code",
   "execution_count": 23,
   "id": "6dc6da2e",
   "metadata": {},
   "outputs": [
    {
     "data": {
      "text/plain": [
       "'1.10.2'"
      ]
     },
     "execution_count": 23,
     "metadata": {},
     "output_type": "execute_result"
    }
   ],
   "source": [
    "pydantic.__version__"
   ]
  },
  {
   "cell_type": "code",
   "execution_count": 24,
   "id": "5d6348f6",
   "metadata": {},
   "outputs": [],
   "source": [
    "from fastapi import FastAPI\n",
    "from pydantic import BaseModel\n",
    "\n",
    "from haystack.document_stores import ElasticsearchDocumentStore\n",
    "import os\n",
    "from haystack.pipelines import ExtractiveQAPipeline\n",
    "from haystack.nodes import FARMReader\n",
    "from haystack.nodes import BM25Retriever"
   ]
  },
  {
   "cell_type": "code",
   "execution_count": 25,
   "id": "38338db3",
   "metadata": {},
   "outputs": [],
   "source": [
    "ELASTIC_SEARCH_HOST =  os.environ.get('es_ip', 'localhost')\n",
    "ELASTIC_SEARCH_PORT =  os.environ.get('es_port', 9200)"
   ]
  },
  {
   "cell_type": "code",
   "execution_count": 26,
   "id": "754a382f",
   "metadata": {},
   "outputs": [
    {
     "data": {
      "text/plain": [
       "'localhost'"
      ]
     },
     "execution_count": 26,
     "metadata": {},
     "output_type": "execute_result"
    }
   ],
   "source": [
    "ELASTIC_SEARCH_HOST"
   ]
  },
  {
   "cell_type": "code",
   "execution_count": 27,
   "id": "844b4eda",
   "metadata": {},
   "outputs": [],
   "source": [
    "#docker run -p 9200:9200 -e \"discovery.type=single-node\" docker.elastic.co/elasticsearch/elasticsearch:7.14.2\n",
    "document_store = ElasticsearchDocumentStore(host=ELASTIC_SEARCH_HOST,\n",
    "                                            port=ELASTIC_SEARCH_PORT,\n",
    "                                            username=\"\", \n",
    "                                            password=\"\",\n",
    "                                            index=\"document\")\n",
    "\n"
   ]
  },
  {
   "cell_type": "markdown",
   "id": "71b9b725",
   "metadata": {},
   "source": [
    "### Initialize Retriever, Reader & Pipeline"
   ]
  },
  {
   "cell_type": "code",
   "execution_count": 28,
   "id": "468d7521",
   "metadata": {},
   "outputs": [],
   "source": [
    "retriever = BM25Retriever(document_store=document_store)\n",
    "reader = FARMReader(model_name_or_path=\"deepset/roberta-base-squad2-covid\", use_gpu=False)\n",
    "pipe = ExtractiveQAPipeline(reader, retriever)"
   ]
  },
  {
   "cell_type": "code",
   "execution_count": 29,
   "id": "ae42c9a0",
   "metadata": {},
   "outputs": [
    {
     "name": "stderr",
     "output_type": "stream",
     "text": [
      "\r",
      "Inferencing Samples:   0%|                                                                            | 0/1 [00:00<?, ? Batches/s]"
     ]
    },
    {
     "name": "stdout",
     "output_type": "stream",
     "text": [
      "huggingface/tokenizers: The current process just got forked, after parallelism has already been used. Disabling parallelism to avoid deadlocks...\n",
      "To disable this warning, you can either:\n",
      "\t- Avoid using `tokenizers` before the fork if possible\n",
      "\t- Explicitly set the environment variable TOKENIZERS_PARALLELISM=(true | false)\n"
     ]
    },
    {
     "name": "stderr",
     "output_type": "stream",
     "text": [
      "Inferencing Samples: 100%|████████████████████████████████████████████████████████████████████| 1/1 [00:03<00:00,  3.33s/ Batches]\n"
     ]
    }
   ],
   "source": [
    "question = \"what are the symptoms of covid\"\n",
    "k_retriver = 1\n",
    "k_reader = 1\n",
    "prediction = pipe.run(query=question, params={\"Retriever\": {\"top_k\": k_retriver}, \"Reader\": {\"top_k\": k_reader}})\n"
   ]
  },
  {
   "cell_type": "code",
   "execution_count": 33,
   "id": "b4ae59fd",
   "metadata": {},
   "outputs": [],
   "source": [
    "#prediction"
   ]
  },
  {
   "cell_type": "code",
   "execution_count": 31,
   "id": "cdac1cf9",
   "metadata": {},
   "outputs": [
    {
     "data": {
      "text/plain": [
       "1"
      ]
     },
     "execution_count": 31,
     "metadata": {},
     "output_type": "execute_result"
    }
   ],
   "source": [
    "len(prediction[\"answers\"])"
   ]
  },
  {
   "cell_type": "code",
   "execution_count": 32,
   "id": "03d2b602",
   "metadata": {},
   "outputs": [
    {
     "data": {
      "text/plain": [
       "<Answer {'answer': 'fever, cough,', 'type': 'extractive', 'score': 0.7558503150939941, 'context': 'p between the initial symptoms of COVID-19 (i.e., the three symptoms fever, cough, and shortness of breath that were identified by CDC during the firs', 'offsets_in_document': [{'start': 10297, 'end': 10310}], 'offsets_in_context': [{'start': 69, 'end': 82}], 'document_id': '59e0d84800d89ac46a83986bda699776', 'meta': {'sha': '9a94d7e76c6608825f0a81f66f94b2add6902a10; 2a6734a919f141b57591b3dd4b5290ac00f268d2', 'title': 'Miscommunication in the age of communication: A crowdsourcing framework for symptom surveillance at the time of pandemics', 'abstract': 'OBJECTIVE: There was a significant delay in compiling a complete list of the symptoms of COVID-19 during the 2020 outbreak of the disease. When there is little information about the symptoms of a novel disease, interventions to contain the spread of the disease would be suboptimal because people experiencing symptoms that are not yet known to be related to the disease may not limit their social activities. Our goal was to understand whether users’ social media postings about the symptoms of novel diseases could be used to develop a complete list of the disease symptoms in a shorter time. MATERIALS AND METHODS: We used the Twitter API to download tweets that contained ‘coronavirus’, ‘COVID-19’, and ‘symptom’. After data cleaning, the resulting dataset consisted of over 95,000 unique, English tweets posted between January 17, 2020 and March 15, 2020 that contained references to the symptoms of COVID-19. We analyzed this data using network and time series methods. RESULTS: We found that a complete list of the symptoms of COVID-19 could have been compiled by mid-March 2020, before most states in the U.S. announced a lockdown and about 75 days earlier than the list was completed on CDC’s website. DISCUSSION & CONCLUSION: We conclude that national and international health agencies should use the crowd-sourced intelligence obtained from social media to develop effective symptom surveillance systems in the early stages of pandemics. We propose a high-level framework that facilitates the collection, analysis, and dissemination of information that are posted in various languages and on different social media platforms about the symptoms of novel diseases.', 'publish_time': '2021-05-11', 'authors': 'M. Zolbanin, Hamed; Hassan Zadeh, Amir; Davazdahemami, Behrooz', 'url': 'https://doi.org/10.1016/j.ijmedinf.2021.104486; https://www.ncbi.nlm.nih.gov/pubmed/33991885/; https://www.sciencedirect.com/science/article/pii/S138650562100112X?v=s5; https://api.elsevier.com/content/article/pii/S138650562100112X'}}>"
      ]
     },
     "execution_count": 32,
     "metadata": {},
     "output_type": "execute_result"
    }
   ],
   "source": [
    "prediction[\"answers\"][0]"
   ]
  }
 ],
 "metadata": {
  "kernelspec": {
   "display_name": "Python [conda env:mytransfenv]",
   "language": "python",
   "name": "conda-env-mytransfenv-py"
  },
  "language_info": {
   "codemirror_mode": {
    "name": "ipython",
    "version": 3
   },
   "file_extension": ".py",
   "mimetype": "text/x-python",
   "name": "python",
   "nbconvert_exporter": "python",
   "pygments_lexer": "ipython3",
   "version": "3.9.13"
  }
 },
 "nbformat": 4,
 "nbformat_minor": 5
}
