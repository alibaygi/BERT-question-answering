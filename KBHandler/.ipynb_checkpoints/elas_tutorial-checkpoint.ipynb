{
 "cells": [
  {
   "cell_type": "code",
   "execution_count": null,
   "id": "aab751da",
   "metadata": {},
   "outputs": [],
   "source": [
    "#https://github.com/deeplearn-ai/covid-qa-udemy"
   ]
  },
  {
   "cell_type": "code",
   "execution_count": 1,
   "id": "89a7aded",
   "metadata": {},
   "outputs": [],
   "source": [
    "#https://pypi.org/project/farm-haystack/\n",
    "#!curl --proto '=https' --tlsv1.2 -sSf https://sh.rustup.rs | sh #from terminal\n",
    "#!pip install --upgrade pip\n",
    "#!pip install setuptools-rust\n",
    "#!pip install farm-haystack\n",
    "#!pip install transformers==4.21.2\n",
    "#!pip install --upgrade transformers\n",
    "#!pip install streamlit\n",
    "#!pip install markupsafe==2.0.1\n",
    "#!pip install elasticsearch==7.14.2\n",
    "###########!pip install farm"
   ]
  },
  {
   "cell_type": "code",
   "execution_count": 2,
   "id": "36065a32",
   "metadata": {},
   "outputs": [
    {
     "name": "stderr",
     "output_type": "stream",
     "text": [
      "/Users/abaygi/miniforge3/envs/mywebscrpenv/lib/python3.8/site-packages/tqdm/auto.py:22: TqdmWarning: IProgress not found. Please update jupyter and ipywidgets. See https://ipywidgets.readthedocs.io/en/stable/user_install.html\n",
      "  from .autonotebook import tqdm as notebook_tqdm\n"
     ]
    }
   ],
   "source": [
    "#https://pypi.org/project/transformers/\n",
    "from transformers import pipeline\n"
   ]
  },
  {
   "cell_type": "code",
   "execution_count": 3,
   "id": "8f4d4a25",
   "metadata": {},
   "outputs": [],
   "source": [
    "import haystack"
   ]
  },
  {
   "cell_type": "code",
   "execution_count": 4,
   "id": "aabfe7b7",
   "metadata": {},
   "outputs": [
    {
     "data": {
      "text/plain": [
       "'1.10.0'"
      ]
     },
     "execution_count": 4,
     "metadata": {},
     "output_type": "execute_result"
    }
   ],
   "source": [
    "haystack.__version__"
   ]
  },
  {
   "cell_type": "code",
   "execution_count": 5,
   "id": "7beb03c9",
   "metadata": {},
   "outputs": [],
   "source": [
    "import transformers "
   ]
  },
  {
   "cell_type": "code",
   "execution_count": 6,
   "id": "28caac24",
   "metadata": {},
   "outputs": [
    {
     "data": {
      "text/plain": [
       "'4.21.2'"
      ]
     },
     "execution_count": 6,
     "metadata": {},
     "output_type": "execute_result"
    }
   ],
   "source": [
    "transformers.__version__"
   ]
  },
  {
   "cell_type": "code",
   "execution_count": 7,
   "id": "e0f3527e",
   "metadata": {},
   "outputs": [
    {
     "name": "stderr",
     "output_type": "stream",
     "text": [
      "No model was supplied, defaulted to distilbert-base-uncased-finetuned-sst-2-english and revision af0f99b (https://huggingface.co/distilbert-base-uncased-finetuned-sst-2-english).\n",
      "Using a pipeline without specifying a model name and revision in production is not recommended.\n"
     ]
    },
    {
     "data": {
      "text/plain": [
       "[{'label': 'POSITIVE', 'score': 0.9996980428695679}]"
      ]
     },
     "execution_count": 7,
     "metadata": {},
     "output_type": "execute_result"
    }
   ],
   "source": [
    "classifier = pipeline('sentiment-analysis')\n",
    "classifier('We are very happy to introduce pipeline to the transformers repository.')"
   ]
  },
  {
   "cell_type": "code",
   "execution_count": 8,
   "id": "4ab4d96c",
   "metadata": {},
   "outputs": [],
   "source": [
    "from elasticsearch import Elasticsearch\n",
    "from elasticsearch import helpers\n",
    "import pandas as pd\n",
    "import toml\n",
    "import os\n",
    "import json"
   ]
  },
  {
   "cell_type": "code",
   "execution_count": null,
   "id": "c306696a",
   "metadata": {},
   "outputs": [],
   "source": [
    "# Connect to Elasticsearch\n",
    "es = Elasticsearch('http://localhost:9200')"
   ]
  },
  {
   "cell_type": "markdown",
   "id": "b74b4584",
   "metadata": {},
   "source": [
    "#### How would I get a list of the names of an index"
   ]
  },
  {
   "cell_type": "code",
   "execution_count": null,
   "id": "cacddfb3",
   "metadata": {},
   "outputs": [],
   "source": [
    " es.indices.get_alias(\"*\")"
   ]
  },
  {
   "cell_type": "code",
   "execution_count": null,
   "id": "89e48bf3",
   "metadata": {},
   "outputs": [],
   "source": [
    "for index in es.indices.get('*'):\n",
    "    print (index)"
   ]
  },
  {
   "cell_type": "code",
   "execution_count": null,
   "id": "9748b3a3",
   "metadata": {},
   "outputs": [],
   "source": [
    "#es.get(index=\"document\", id=3)"
   ]
  },
  {
   "cell_type": "code",
   "execution_count": null,
   "id": "74420f59",
   "metadata": {},
   "outputs": [],
   "source": [
    "res = es.get(index=\"document\", id=1)\n",
    "\n",
    "res"
   ]
  },
  {
   "cell_type": "code",
   "execution_count": null,
   "id": "cc979190",
   "metadata": {},
   "outputs": [],
   "source": [
    "# Creating index\n",
    "\n",
    "es.indices.create(index=\"first_index\")"
   ]
  },
  {
   "cell_type": "code",
   "execution_count": null,
   "id": "aee7b698",
   "metadata": {},
   "outputs": [],
   "source": [
    "# Looking if the index exists\n",
    "\n",
    "es.indices.exists(index=\"first_index\")"
   ]
  },
  {
   "cell_type": "code",
   "execution_count": null,
   "id": "00a7fd21",
   "metadata": {},
   "outputs": [],
   "source": [
    "# Delete index\n",
    "\n",
    "es.indices.delete(index=\"first_index\")"
   ]
  },
  {
   "cell_type": "code",
   "execution_count": null,
   "id": "38018fb5",
   "metadata": {},
   "outputs": [],
   "source": [
    "es.indices.exists(index=\"first_index\")"
   ]
  },
  {
   "cell_type": "markdown",
   "id": "d933c16e",
   "metadata": {},
   "source": [
    "### Inserting and getting data"
   ]
  },
  {
   "cell_type": "code",
   "execution_count": null,
   "id": "118b293e",
   "metadata": {},
   "outputs": [],
   "source": [
    "# Inserting data\n",
    "\n",
    "doc_1 = {\"city\": \"Paris\", \"country\": \"France\"}\n",
    "doc_2 = {\"city\": \"Vienna\", \"country\": \"Austria\"}\n",
    "doc_3 = {\"city\": \"London\", \"country\": \"England\"}"
   ]
  },
  {
   "cell_type": "code",
   "execution_count": null,
   "id": "f04dd401",
   "metadata": {},
   "outputs": [],
   "source": [
    "es.index(index=\"cities\", doc_type=\"places\", id=1, body=doc_1)"
   ]
  },
  {
   "cell_type": "code",
   "execution_count": null,
   "id": "4675043b",
   "metadata": {},
   "outputs": [],
   "source": [
    "es.index(index=\"cities\", doc_type=\"places\", id=2, body=doc_2)\n"
   ]
  },
  {
   "cell_type": "code",
   "execution_count": null,
   "id": "1996474f",
   "metadata": {},
   "outputs": [],
   "source": [
    "es.index(index=\"cities\", doc_type=\"places\", id=3, body=doc_3)"
   ]
  },
  {
   "cell_type": "code",
   "execution_count": null,
   "id": "66f5efb1",
   "metadata": {},
   "outputs": [],
   "source": [
    "# Getting the data\n",
    "\n",
    "res = es.get(index=\"cities\", doc_type=\"places\", id=1)"
   ]
  },
  {
   "cell_type": "code",
   "execution_count": null,
   "id": "27958455",
   "metadata": {},
   "outputs": [],
   "source": [
    "res"
   ]
  },
  {
   "cell_type": "code",
   "execution_count": null,
   "id": "67130ca8",
   "metadata": {},
   "outputs": [],
   "source": [
    "# Get the data which is present in the _source key\n",
    "\n",
    "res[\"_source\"]"
   ]
  },
  {
   "cell_type": "markdown",
   "id": "5297639a",
   "metadata": {},
   "source": [
    "### Elastic search querry"
   ]
  },
  {
   "cell_type": "code",
   "execution_count": null,
   "id": "1c69c4b0",
   "metadata": {},
   "outputs": [],
   "source": [
    "#Search query and matching documents\n",
    "\n",
    "# Creating our data\n",
    "\n",
    "doc_1 = {\"sentence\":\"Hack COVID-19 is amazing!\"}\n",
    "doc_2 = {\"sentence\":\"Hack-Quarantine is stunning!\"}\n",
    "\n",
    "es.index(index=\"english\", doc_type=\"sentences\", id=1, body=doc_1)\n",
    "es.index(index=\"english\", doc_type=\"sentences\", id=2, body=doc_2)"
   ]
  },
  {
   "cell_type": "code",
   "execution_count": null,
   "id": "bfd0a31c",
   "metadata": {},
   "outputs": [],
   "source": [
    "es.get(index=\"english\", id=1)"
   ]
  },
  {
   "cell_type": "code",
   "execution_count": null,
   "id": "6524cca3",
   "metadata": {},
   "outputs": [],
   "source": [
    "# Creating our query\n",
    "\n",
    "## Match query \n",
    "\n",
    "body = {\n",
    "    \"from\":0,\n",
    "    \"size\":0,\n",
    "    \"query\": {\n",
    "        \"match\": {\n",
    "            \"sentence\":\"Hack\"\n",
    "        }\n",
    "    }\n",
    "}\n",
    "\n",
    "res = es.search(index=\"english\", body=body)\n",
    "res"
   ]
  },
  {
   "cell_type": "code",
   "execution_count": null,
   "id": "e6f1c960",
   "metadata": {},
   "outputs": [],
   "source": [
    "body = {\n",
    "    \"from\":0,\n",
    "    \"size\":2,\n",
    "    \"query\": {\n",
    "        \"match\": {\n",
    "            \"sentence\":\"Hack\"\n",
    "        }\n",
    "    }\n",
    "}\n",
    "\n",
    "res = es.search(index=\"english\", body=body)\n",
    "res"
   ]
  },
  {
   "cell_type": "code",
   "execution_count": null,
   "id": "3ae43f0a",
   "metadata": {},
   "outputs": [],
   "source": [
    "#from haystack.pipelines import ExtractiveQAPipeline\n",
    "#from haystack.nodes import FARMReader\n",
    "#from haystack.nodes import BM25Retriever\n",
    "#from fastapi import FastAPI\n",
    "#from pydantic import BaseModel"
   ]
  },
  {
   "cell_type": "code",
   "execution_count": null,
   "id": "ce5b5a8b",
   "metadata": {},
   "outputs": [],
   "source": [
    "#streamlit.__version__"
   ]
  },
  {
   "cell_type": "code",
   "execution_count": null,
   "id": "5e9d6692",
   "metadata": {},
   "outputs": [],
   "source": [
    "import streamlit"
   ]
  },
  {
   "cell_type": "code",
   "execution_count": null,
   "id": "ed315dd4",
   "metadata": {},
   "outputs": [],
   "source": [
    "import streamlit as st\n",
    "import requests, json\n",
    "from annotated_text import annotated_text"
   ]
  },
  {
   "cell_type": "code",
   "execution_count": null,
   "id": "9cb445c9",
   "metadata": {},
   "outputs": [],
   "source": [
    "#run desktop docker first and then go and run the following in temrinal.\n",
    "#docker run -p 9200:9200 -e \"discovery.type=single-node\" docker.elastic.co/elasticsearch/elasticsearch:7.14.2\n",
    "#in safari---> http://localhost:9200\n",
    "#https://git.ir/udemy-elasticsearch-7-and-the-elastic-stack-in-depth-and-hands-on/\n",
    "#https://www.youtube.com/watch?v=wGDQq1ax7uI\n",
    "from haystack.document_stores import ElasticsearchDocumentStore\n",
    "document_store = ElasticsearchDocumentStore(host=\"localhost\", username=\"\", password=\"\", index=\"document\")\n"
   ]
  },
  {
   "cell_type": "code",
   "execution_count": null,
   "id": "3ca80cdb",
   "metadata": {},
   "outputs": [],
   "source": [
    "# Let's first fetch some documents that we want to query\n",
    "import pandas as pd \n",
    "df = pd.read_csv('/Users/abaygi/Documents/Educational/NLP_covid/covid-qa-udemy-main/Section 3 Data Pre-Processing/FINAL_CORD_DATA.csv')"
   ]
  },
  {
   "cell_type": "code",
   "execution_count": null,
   "id": "0b1933e2",
   "metadata": {},
   "outputs": [],
   "source": [
    "df.head(3)"
   ]
  },
  {
   "cell_type": "code",
   "execution_count": null,
   "id": "6797153d",
   "metadata": {},
   "outputs": [],
   "source": [
    "df.shape"
   ]
  },
  {
   "cell_type": "code",
   "execution_count": null,
   "id": "7fc78a84",
   "metadata": {},
   "outputs": [],
   "source": [
    "df.isnull().sum()"
   ]
  },
  {
   "cell_type": "code",
   "execution_count": null,
   "id": "ba82a8e1",
   "metadata": {},
   "outputs": [],
   "source": [
    "df.dropna(inplace=True)"
   ]
  },
  {
   "cell_type": "code",
   "execution_count": null,
   "id": "6a2f8d37",
   "metadata": {},
   "outputs": [],
   "source": [
    "df.isnull().sum()"
   ]
  },
  {
   "cell_type": "code",
   "execution_count": null,
   "id": "8c56a086",
   "metadata": {},
   "outputs": [],
   "source": [
    "# Convert files to dicts\n",
    "# You can optionally supply a cleaning function that is applied to each doc (e.g. to remove footers)\n",
    "# It must take a str as input, and return a str.\n",
    "dicts = df.to_dict('records')"
   ]
  },
  {
   "cell_type": "code",
   "execution_count": null,
   "id": "d872ce91",
   "metadata": {},
   "outputs": [],
   "source": [
    "#dicts[3]"
   ]
  },
  {
   "cell_type": "code",
   "execution_count": null,
   "id": "ef9bb887",
   "metadata": {},
   "outputs": [],
   "source": [
    "dicts[3][\"sha\"]"
   ]
  },
  {
   "cell_type": "code",
   "execution_count": null,
   "id": "cc510102",
   "metadata": {},
   "outputs": [],
   "source": [
    "dicts[3][\"title\"]"
   ]
  },
  {
   "cell_type": "code",
   "execution_count": null,
   "id": "a4270d49",
   "metadata": {},
   "outputs": [],
   "source": [
    "dicts[3][\"body_text\"]"
   ]
  },
  {
   "cell_type": "markdown",
   "id": "56b3acfb",
   "metadata": {},
   "source": [
    "### \n",
    "from haystack.document_stores import ElasticsearchDocumentStore\n",
    "\n",
    "\n",
    "\n",
    "document_store = ElasticsearchDocumentStore()\n",
    "\n",
    "\n",
    "documents = [\n",
    "    Document(\n",
    "    \n",
    "      'content'=DOCUMENT_TEXT_HERE\n",
    "      \n",
    "      'meta'={'name': DOCUMENT_NAME, ...}\n",
    "      \n",
    "    ),\n",
    "    ...\n",
    "]\n",
    "\n",
    "\n",
    "\n",
    "document_store.write_documents(dicts)"
   ]
  },
  {
   "cell_type": "code",
   "execution_count": null,
   "id": "712338f7",
   "metadata": {},
   "outputs": [],
   "source": [
    "final_dicts = []\n",
    "for each in dicts:\n",
    "    tmp = {}\n",
    "    if each is not None:\n",
    "        tmp['content'] = each.pop('body_text')\n",
    "        tmp['meta'] = each\n",
    "    final_dicts.append(tmp)\n",
    "\n",
    "document_store.write_documents(final_dicts)"
   ]
  },
  {
   "cell_type": "code",
   "execution_count": null,
   "id": "c7608cc8",
   "metadata": {},
   "outputs": [],
   "source": []
  },
  {
   "cell_type": "code",
   "execution_count": null,
   "id": "8f9a417c",
   "metadata": {},
   "outputs": [],
   "source": [
    "final_dicts[0]"
   ]
  },
  {
   "cell_type": "code",
   "execution_count": null,
   "id": "99241d43",
   "metadata": {},
   "outputs": [],
   "source": [
    "#document_store.write_documents(final_dicts)"
   ]
  },
  {
   "cell_type": "code",
   "execution_count": null,
   "id": "e4356ae8",
   "metadata": {},
   "outputs": [],
   "source": [
    "test_dicts = [ {\n",
    "        'content': \"hi\",\n",
    "        'meta': {'name': \"DOCUMENT_NAME\"}\n",
    "    }]"
   ]
  },
  {
   "cell_type": "code",
   "execution_count": null,
   "id": "3f5d04e6",
   "metadata": {},
   "outputs": [],
   "source": [
    "#document_store.write_documents(test_dicts)"
   ]
  },
  {
   "cell_type": "code",
   "execution_count": null,
   "id": "c2824d5e",
   "metadata": {},
   "outputs": [],
   "source": [
    "document_store.get_document_count()"
   ]
  },
  {
   "cell_type": "code",
   "execution_count": null,
   "id": "c5b410e3",
   "metadata": {},
   "outputs": [],
   "source": [
    "#document_store.query(\"covid symptoms\")"
   ]
  },
  {
   "cell_type": "code",
   "execution_count": null,
   "id": "89c04a94",
   "metadata": {},
   "outputs": [],
   "source": [
    "document_store.get_document_by_id(1)"
   ]
  },
  {
   "cell_type": "code",
   "execution_count": null,
   "id": "5d6348f6",
   "metadata": {},
   "outputs": [],
   "source": [
    "from fastapi import FastAPI\n",
    "from pydantic import BaseModel\n",
    "\n",
    "from haystack.document_stores import ElasticsearchDocumentStore\n",
    "import os\n",
    "from haystack.pipelines import ExtractiveQAPipeline\n",
    "from haystack.nodes import FARMReader\n",
    "from haystack.nodes import BM25Retriever"
   ]
  },
  {
   "cell_type": "code",
   "execution_count": null,
   "id": "38338db3",
   "metadata": {},
   "outputs": [],
   "source": [
    "ELASTIC_SEARCH_HOST =  os.environ.get('es_ip', 'localhost')\n",
    "ELASTIC_SEARCH_PORT =  os.environ.get('es_port', 9200)"
   ]
  },
  {
   "cell_type": "code",
   "execution_count": null,
   "id": "754a382f",
   "metadata": {},
   "outputs": [],
   "source": [
    "ELASTIC_SEARCH_HOST"
   ]
  },
  {
   "cell_type": "code",
   "execution_count": null,
   "id": "844b4eda",
   "metadata": {},
   "outputs": [],
   "source": [
    "#docker run -p 9200:9200 -e \"discovery.type=single-node\" docker.elastic.co/elasticsearch/elasticsearch:7.14.2\n",
    "document_store = ElasticsearchDocumentStore(host=ELASTIC_SEARCH_HOST,\n",
    "                                            port=ELASTIC_SEARCH_PORT,\n",
    "                                            username=\"\", \n",
    "                                            password=\"\",\n",
    "                                            index=\"document\")\n",
    "\n"
   ]
  },
  {
   "cell_type": "code",
   "execution_count": null,
   "id": "47c4bce9",
   "metadata": {},
   "outputs": [],
   "source": [
    "document_store.get_all_documents()"
   ]
  },
  {
   "cell_type": "code",
   "execution_count": null,
   "id": "720e217d",
   "metadata": {},
   "outputs": [],
   "source": [
    "document_store.get_document_count()"
   ]
  },
  {
   "cell_type": "code",
   "execution_count": null,
   "id": "468d7521",
   "metadata": {},
   "outputs": [],
   "source": [
    "retriever = BM25Retriever(document_store=document_store)\n",
    "reader = FARMReader(model_name_or_path=\"deepset/roberta-base-squad2-covid\", use_gpu=False)\n",
    "pipe = ExtractiveQAPipeline(reader, retriever)"
   ]
  },
  {
   "cell_type": "code",
   "execution_count": null,
   "id": "ae42c9a0",
   "metadata": {},
   "outputs": [],
   "source": [
    "question = \"what are the symptoms of covid\"\n",
    "k_retriver = 3\n",
    "k_reader = 3\n",
    "prediction = pipe.run(query=question, params={\"Retriever\": {\"top_k\": k_retriver}, \"Reader\": {\"top_k\": k_reader}})\n"
   ]
  },
  {
   "cell_type": "code",
   "execution_count": null,
   "id": "b4ae59fd",
   "metadata": {},
   "outputs": [],
   "source": [
    "prediction"
   ]
  },
  {
   "cell_type": "code",
   "execution_count": null,
   "id": "cdac1cf9",
   "metadata": {},
   "outputs": [],
   "source": [
    "len(prediction[\"answers\"])"
   ]
  },
  {
   "cell_type": "code",
   "execution_count": null,
   "id": "03d2b602",
   "metadata": {},
   "outputs": [],
   "source": [
    "prediction[\"answers\"][0]"
   ]
  },
  {
   "cell_type": "code",
   "execution_count": null,
   "id": "38d06157",
   "metadata": {},
   "outputs": [],
   "source": [
    "\n",
    "\n",
    "app = FastAPI()\n",
    "\n",
    "class Queobj(BaseModel):\n",
    "    question: str\n",
    "    num_answers: int\n",
    "    num_docs: int\n",
    "\n",
    "\n",
    "@app.post('/query')\n",
    "async def query(que_obj: Queobj):\n",
    "    question = que_obj.question\n",
    "    k_retriver = que_obj.num_docs\n",
    "    k_reader = que_obj.num_answers\n",
    "    prediction = pipe.run(query=question, top_k_retriever=k_retriver, top_k_reader=k_reader)\n",
    "    return {'answer': prediction}\n",
    "\n",
    "\n",
    "#uvicorn main:app  --port 8080 #http://127.0.0.1:8080/docs"
   ]
  },
  {
   "cell_type": "code",
   "execution_count": null,
   "id": "1d2d364a",
   "metadata": {},
   "outputs": [],
   "source": []
  }
 ],
 "metadata": {
  "kernelspec": {
   "display_name": "Python [conda env:mywebscrpenv]",
   "language": "python",
   "name": "conda-env-mywebscrpenv-py"
  },
  "language_info": {
   "codemirror_mode": {
    "name": "ipython",
    "version": 3
   },
   "file_extension": ".py",
   "mimetype": "text/x-python",
   "name": "python",
   "nbconvert_exporter": "python",
   "pygments_lexer": "ipython3",
   "version": "3.8.13"
  }
 },
 "nbformat": 4,
 "nbformat_minor": 5
}
